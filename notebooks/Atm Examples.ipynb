{
 "cells": [
  {
   "cell_type": "code",
   "execution_count": null,
   "metadata": {
    "collapsed": false
   },
   "outputs": [],
   "source": [
    "import Optim\n",
    "using LujiaLt\n",
    "using LujiaLt.Potentials, LujiaLt.Plotting, LujiaLt.Solve"
   ]
  },
  {
   "cell_type": "code",
   "execution_count": null,
   "metadata": {
    "collapsed": false
   },
   "outputs": [],
   "source": [
    "# vacancy defect: create geometry and visualise\n",
    "at = Atm(V=ToyEAMPotential(), Ra=8.1, defect=:vacancy)\n",
    "plot(at, axis = [-5.1, 5.1, -3.1, 3.1])\n",
    "# optimise the geometry; this uses Precon.jl (Hager Zhang CG) with a preconditioner to speed up convergence\n",
    "Ysol = solve(at, display_result = true)\n",
    "# plot the equilibrated positions\n",
    "plot(at, X=Ysol, axis = [-5.1, 5.1, -3.1, 3.1]);"
   ]
  },
  {
   "cell_type": "markdown",
   "metadata": {},
   "source": [
    "------------"
   ]
  },
  {
   "cell_type": "code",
   "execution_count": null,
   "metadata": {
    "collapsed": false
   },
   "outputs": [],
   "source": [
    "# same for interstitial defect: \n",
    "# ToyEAM seems to be unstable here (?!?), so we use LJ instead\n",
    "import Optim\n",
    "at = Atm(V=LennardJonesPotential(), Ra=8.1, defect=:interstitial)\n",
    "plot(at, axis = [-5.1, 5.1, -3.1, 3.1], rnn = 1.1)\n",
    "Ysol = solve(at, display_result = true, Optimiser=Optim.ConjugateGradient, randomise=0.01)\n",
    "plot(at, X=Ysol, axis = [-5.1, 5.1, -3.1, 3.1], rnn = 1.3);"
   ]
  },
  {
   "cell_type": "code",
   "execution_count": null,
   "metadata": {
    "collapsed": false
   },
   "outputs": [],
   "source": [
    "# for fun - try a different initial condition\n",
    "at = Atm(V=LennardJonesPotential(), Ra=8.1, defect=:interstitial)\n",
    "Y = at.geom.tri.X\n",
    "I0 = size(Y, 2)  # interstitial site\n",
    "I1 = find( (abs(Y[2,:]) .< 0.1) .* (abs(Y[1,:]) .< 0.1) )[1]  #  left neighbour\n",
    "I2 = find( (abs(Y[2,:]) .< 0.1) .* (abs(Y[1,:]-1.0) .< 0.1) )[1]  # right neighbour\n",
    "I3 = find( (abs(Y[1,:]-0.5) .< 0.1) .* (abs(Y[2,:]+sqrt(3)/2) .< 0.1) ) # bottom neighbour\n",
    "Y[2,I0] -= sqrt(3)/4\n",
    "Y[1,I1] -= 0.1\n",
    "Y[2,I2] += 0.1\n",
    "Y[2,I3] -= 0.2\n",
    "at.geom.tri.X = Y\n",
    "plot(at, axis = [-5.1, 5.1, -3.1, 3.1], rnn=1.1)\n",
    "Ysol = solve(at, display_result = true, Optimiser=Optim.ConjugateGradient, show_trace=false)\n",
    "plot(at, X=Ysol, axis = [-5.1, 5.1, -3.1, 3.1], rnn=1.3)"
   ]
  },
  {
   "cell_type": "code",
   "execution_count": null,
   "metadata": {
    "collapsed": true
   },
   "outputs": [],
   "source": [
    "}"
   ]
  }
 ],
 "metadata": {
  "kernelspec": {
   "display_name": "Julia 0.4.5",
   "language": "julia",
   "name": "julia-0.4"
  },
  "language_info": {
   "file_extension": ".jl",
   "mimetype": "application/julia",
   "name": "julia",
   "version": "0.4.5"
  }
 },
 "nbformat": 4,
 "nbformat_minor": 0
}
