{
 "cells": [
  {
   "cell_type": "markdown",
   "metadata": {},
   "source": [
    "# Introduction to the FEM Module\n",
    "\n",
    "We will implement a simple fem problem to test how the FEM module works. We first implement the Laplace equation\n",
    "$$\n",
    "  - \\Delta u = 1, \\qquad x \\in (-1,1)^2,  \\qquad u = 0 \\quad \\text{on the boundary}\n",
    "$$"
   ]
  },
  {
   "cell_type": "code",
   "execution_count": null,
   "metadata": {
    "collapsed": false
   },
   "outputs": [],
   "source": [
    "using PyPlot, Compose\n",
    "using LujiaLt.FEM\n"
   ]
  },
  {
   "cell_type": "code",
   "execution_count": null,
   "metadata": {
    "collapsed": false
   },
   "outputs": [],
   "source": [
    "# implement a radial mesh \n",
    "\n",
    "# we only need to produce the point\n",
    "# and let the delaunay triangulation create the elements\n",
    "function Xsquare(N)\n",
    "    x = linspace(-1, 1, N)\n",
    "    o = ones(N)\n",
    "    x, y = (x * o')[:], (o * x')[:]\n",
    "    return [x'; y']\n",
    "end\n",
    "\n",
    "# create the nodes for the triangulation\n",
    "Ntest = 12\n",
    "X = Xsquare(Ntest)\n",
    "# plot(X[1,:], X[2,:], \"b.\");\n",
    "\n",
    "# we also need something that will give us the \n",
    "# interior (free) nodes\n",
    "free_nodes(X) = find( maxabs(X, 1) .< 1-1e-10 );\n"
   ]
  },
  {
   "cell_type": "code",
   "execution_count": null,
   "metadata": {
    "collapsed": false
   },
   "outputs": [],
   "source": [
    "# create a triangulation\n",
    "tri = Triangulation(X)\n",
    "FEM.plot(tri; width=10cm, xradius=0.02, lwidth=0.5);"
   ]
  },
  {
   "cell_type": "code",
   "execution_count": null,
   "metadata": {
    "collapsed": false
   },
   "outputs": [],
   "source": [
    "# check how many triangles we have\n",
    "println(\"number of triangles = \", nT(tri))\n",
    "println(\"we should have \", 2 * (Ntest-1)^2)\n",
    "if nT(tri) == 2 * (Ntest-1)^2\n",
    "    println(\"\"\"=> this is great: it means that no thin triangles are \n",
    "               created on the boundary due to numerical round-off!\"\"\")\n",
    "else\n",
    "    println(\"something went wrong: please file an issue!\")\n",
    "end"
   ]
  },
  {
   "cell_type": "code",
   "execution_count": null,
   "metadata": {
    "collapsed": false
   },
   "outputs": [],
   "source": [
    "\n",
    "# assembly of P1-laplacian\n",
    "function P1_laplacian(tri)\n",
    "    # initialise triplet format\n",
    "    I = Int[]; J = Int[]; V = Float64[]\n",
    "    # initialise r-h-s\n",
    "    F = zeros(nX(tri))\n",
    "    # assembly loop\n",
    "    for el in elements(tri)\n",
    "        # element stiffness matrix (el.B is the gradient operator)\n",
    "        Ael = el.vol * el.B * el.B'\n",
    "        # write into global stiffness matrix\n",
    "        for i = 1:3, j = 1:3\n",
    "            push!(I, el.t[i]); push!(J, el.t[j]); push!(V, Ael[i,j])\n",
    "        end\n",
    "        # r-h-s  (force ≡ 1)\n",
    "        F[el.t] = el.vol / 3\n",
    "    end\n",
    "    return sparse(I, J, V), F\n",
    "end\n",
    "\n"
   ]
  },
  {
   "cell_type": "code",
   "execution_count": null,
   "metadata": {
    "collapsed": false
   },
   "outputs": [],
   "source": [
    "# solve\n",
    "tri = Triangulation(Xsquare(30))\n",
    "A, b = P1_laplacian(tri)\n",
    "u = zeros(nX(tri))\n",
    "Ifree = free_nodes(tri.X)\n",
    "u[Ifree] = A[Ifree, Ifree] \\ b[Ifree];\n",
    "# … and plot\n",
    "PyPlot.plot_trisurf(tri.X[1,:][:], tri.X[2,:][:], u,\n",
    "                    triangles=tri.T'-1, \n",
    "                    cmap=ColorMap(\"inferno\"), linewidth=0.5)\n",
    "title(\"Success: this looks correct!\")"
   ]
  },
  {
   "cell_type": "markdown",
   "metadata": {},
   "source": [
    "## Second Example: Nonlinear problem\n",
    "\n",
    "$$\n",
    "   \\arg\\min_{W^{1,p}_0} \\int_{\\Omega} (1 + |\\nabla u|^2)^{p/2} dx\n",
    "$$\n",
    "We solve this with a pre-conditioned CG method via `Optim.jl`."
   ]
  },
  {
   "cell_type": "code",
   "execution_count": null,
   "metadata": {
    "collapsed": false
   },
   "outputs": [],
   "source": [
    "# specify the energy \n",
    "W(F, p) = (0.01 + 1/p * sumabs2(F))^(p/2)\n",
    "dW(F, p) = (0.01 + 1/p * sumabs2(F))^(p/2-1) * F\n",
    "\n",
    "# u : dof vector\n",
    "# tri : triangulation\n",
    "# p : p parameter for p-laplacian\n",
    "# u0 : dirichlet condition\n",
    "# Ifree : free nodes\n",
    "function plaplacian(u, tri, p, u0, Ifree)\n",
    "    @assert 1 < p < Inf \n",
    "    v = copy(u0)\n",
    "    v[Ifree] = u\n",
    "    E = 0.0\n",
    "    dE = zeros(nX(tri))\n",
    "    for el in elements(tri)\n",
    "        Du = el.B' * v[el.t]\n",
    "        E += el.vol * (W(Du, p) - mean(v[el.t]))\n",
    "        dE[el.t] += el.vol * (el.B * dW(Du, p) - ones(length(el.t))/length(el.t))\n",
    "    end\n",
    "    return E, dE[Ifree]\n",
    "end\n",
    "\n"
   ]
  },
  {
   "cell_type": "code",
   "execution_count": null,
   "metadata": {
    "collapsed": false
   },
   "outputs": [],
   "source": [
    "# finite-difference test to make sure this is correctly implemented\n",
    "import LujiaLt.Testing\n",
    "tri = Triangulation(Xsquare(8))\n",
    "A, b = P1_laplacian(tri)\n",
    "u0 = zeros(nX(tri))\n",
    "Ifree = free_nodes(tri.X)\n",
    "p = 4\n",
    "F = u -> plaplacian(u, tri, p, u0, Ifree)[1]\n",
    "dF = u -> plaplacian(u, tri, p, u0, Ifree)[2]\n",
    "LujiaLt.Testing.fdtest(F, dF, 0.1 * rand(length(Ifree)))\n"
   ]
  },
  {
   "cell_type": "code",
   "execution_count": null,
   "metadata": {
    "collapsed": false
   },
   "outputs": [],
   "source": [
    "#\n",
    "import Optim\n",
    "tri = Triangulation(Xsquare(30))\n",
    "A, b = P1_laplacian(tri)\n",
    "u0 = zeros(nX(tri))\n",
    "Ifree = free_nodes(tri.X)\n",
    "p = 8\n",
    "\n",
    "E, dE = plaplacian(u0[Ifree], tri, p, u0, Ifree)\n",
    "\n",
    "# unfortunately, Optim.jl doesn't allow the type of\n",
    "# objective we just implemented, we need to do a\n",
    "# silly hack - some work to do to fix this!\n",
    "F = u -> plaplacian(u, tri, p, u0, Ifree)[1]\n",
    "dF = u -> plaplacian(u, tri, p, u0, Ifree)[2]\n",
    "dF! = (u, g) -> copy!( g, dF(u) )\n",
    "obj = Optim.DifferentiableFunction(F, dF!)\n",
    "\n",
    "# call Optim\n",
    "results = Optim.optimize(obj, u0[Ifree], \n",
    "                    method = Optim.ConjugateGradient(P = A[Ifree, Ifree]),\n",
    "                    ftol = 1e-32, grtol = 1e-8)\n",
    "u = copy(u0);\n",
    "u[Ifree] = results.minimum\n",
    "\n",
    "# plot result\n",
    "PyPlot.plot_trisurf(tri.X[1,:][:], tri.X[2,:][:], u,\n",
    "                    triangles=tri.T'-1, \n",
    "                    cmap=ColorMap(\"viridis\"), linewidth=0.5)\n"
   ]
  },
  {
   "cell_type": "code",
   "execution_count": null,
   "metadata": {
    "collapsed": true
   },
   "outputs": [],
   "source": []
  }
 ],
 "metadata": {
  "kernelspec": {
   "display_name": "Julia 0.4.5",
   "language": "julia",
   "name": "julia-0.4"
  },
  "language_info": {
   "file_extension": ".jl",
   "mimetype": "application/julia",
   "name": "julia",
   "version": "0.4.5"
  }
 },
 "nbformat": 4,
 "nbformat_minor": 0
}
