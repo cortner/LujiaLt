{
 "cells": [
  {
   "cell_type": "code",
   "execution_count": null,
   "metadata": {
    "collapsed": false
   },
   "outputs": [],
   "source": [
    "push!(LOAD_PATH, \".\")\n",
    "using PyPlot\n",
    "using LujiaLt\n",
    "import Fig3DTools"
   ]
  },
  {
   "cell_type": "code",
   "execution_count": null,
   "metadata": {
    "collapsed": false
   },
   "outputs": [],
   "source": [
    "# BCC unit cell\n",
    "X = [ [0,0,0] [1,0,0] [0,1,0] [1,1,0]  [0,0,1] [1,0,1] [0,1,1] [1,1,1] [.5,.5,.5] ]\n",
    "Fig3DTools.write_xyz(X, \"bcc_unit_cell.xyz\", comment=\"bcc unit cell\")\n",
    "\n",
    "# FCC unit cell\n",
    "Xfcc = [ [0,0,0] [1,0,0] [0,1,0] [1,1,0] [0,0,1] [1,0,1] [0,1,1] [1,1,1] [.5,.5,0] [.5,.5,1] [.5, 0, .5] [.5, 1, .5] [0, .5, .5] [1,.5,.5] ]\n",
    "Fig3DTools.write_xyz(X, \"fcc_unit_cell.xyz\", comment=\"fcc unit cell\")\n",
    "\n",
    "# hexagonal lattice\n",
    "X = Fig3DTools.multilattice_ball(R=10)\n",
    "Fig3DTools.write_xyz(X, \"hex_lattice.xyz\", comment=\"hexagonal lattice unit cell\")\n",
    "\n",
    "# Diamond cubic\n",
    "X_diamond = [Xfcc ([.25,.25,.25] .+ Xfcc)]\n",
    "Fig3DTools.write_xyz(X_diamond, \"diamond_cubic.xyz\", comment=\"diamong cubic unit cell\")\n",
    "X_diamond_cell = X_diamond[:, find(maximum(X_diamond, 1) .<= 1.01)]\n",
    "Fig3DTools.write_xyz(X_diamond_cell, \"diamond_cubic_cell.xyz\", comment=\"diamong cubic unit cell\")\n"
   ]
  },
  {
   "cell_type": "code",
   "execution_count": null,
   "metadata": {
    "collapsed": false
   },
   "outputs": [],
   "source": [
    "# generate a vacancy geometry\n",
    "X = Fig3DTools.lattice_ball(R=20.1, lattice = \"tri\", defect = \"vac\")\n",
    "# call the solver, with free boundary\n",
    "Y = LujiaLt.quick_solve(X=X, Rfree=18.1, show_trace=false)\n",
    "# PyPlot points\n",
    "plot(Y[1,:][:], Y[2,:][:], \"b.\")\n",
    "# write xyz file\n",
    "Fig3DTools.write_xyz(X, \"tri_vacancy.xyz\");"
   ]
  },
  {
   "cell_type": "code",
   "execution_count": null,
   "metadata": {
    "collapsed": false
   },
   "outputs": [],
   "source": [
    "# generate a interstitial geometry\n",
    "X = Fig3DTools.lattice_ball(R=15, lattice = \"tri\", defect = \"int\")\n",
    "# call the solver, with free boundary\n",
    "Y = copy(X)\n",
    "Y = LujiaLt.quick_solve(X=Y, Rfree = 12.1, show_trace=false)\n",
    "# PyPlot points\n",
    "plot(Y[1,:], Y[2,:], \"b.\")\n",
    "# write xyz file\n",
    "LjIO.write_xyz(Y, \"tri_interstial.xyz\");"
   ]
  },
  {
   "cell_type": "code",
   "execution_count": null,
   "metadata": {
    "collapsed": false
   },
   "outputs": [],
   "source": [
    "# displacement field for an edge dislocation\n",
    "function u_edge(X, b, ν)\n",
    "    # shift the lattice\n",
    "    X1 = X[1,:]\n",
    "    X2 = X[2,:]\n",
    "    # compute the displacements\n",
    "    # note the extra shift u1 += b/2 is to take into account discreteness\n",
    "    X1[find(X2 .< 0)] += b/2\n",
    "    u1 = b/(2*π)*( atan(X1 ./ X2) + (X1 .* X2) ./ (2*(1-ν)*(X1.^2+X2.^2)) )\n",
    "    u2 = -b/(2*π)* ( (1-2*ν)/(4*(1-ν)) * log(X1.^2 + X2.^2) + (X1.^2-X2.^2) ./ (4*(1-ν)*(X1.^2+X2.^2)) )\n",
    "    # apply the displacement to the lattice\n",
    "    X1 += u1\n",
    "    X2 += u2\n",
    "    # return deformed lattice\n",
    "    return [X1; X2]\n",
    "end"
   ]
  },
  {
   "cell_type": "code",
   "execution_count": null,
   "metadata": {
    "collapsed": false
   },
   "outputs": [],
   "source": [
    "\n",
    "####### EDGE DISLOCATION in Z2 ########\n",
    "N = 20\n",
    "s = -N:N\n",
    "o = zeros(2*N+1)\n",
    "x = s .+ o'; y = o .+ s'\n",
    "X = [x[:]'; y[:]']\n",
    "# shift a cell-centre into the origin\n",
    "X = X .- [.5; .5]\n",
    "\n",
    "# save this (???why???)\n",
    "Fig3DTools.write_xyz(X, \"Z2.xyz\")\n",
    "\n",
    "# apply isotropic linear elasticity solution\n",
    "X = u_edge(X, 1.0, 1/4)\n",
    "\n",
    "# assign different types to a few of the particles\n",
    "Icore = find( (X[1,:] .> -1) & (X[1,:] .< 1) & (X[2,:] .> 0) & (X[2,:] .< 2) )\n",
    "S = [ \"Fe\" for n = 1:size(X, 2) ]\n",
    "S[Icore] = \"Al\"\n",
    "\n",
    "# plot the LE configuration\n",
    "plot(X[1,:][:], X[2,:][:], \"b.\", markersize=10)\n",
    "plot(X[1,Icore][:], X[2,Icore][:], \"r*\")\n",
    "axis([-4,4,-3,5])\n",
    "# and output as XYZ\n",
    "Fig3DTools.write_xyz(X, \"Z2_edgedis.xyz\"; species=S)\n",
    "\n",
    "# create a periodically repeated image\n",
    "Y = reshape(Float64[], 3, 0)\n",
    "S2 = []\n",
    "o = ones(size(X, 2))'\n",
    "for n = 0:5\n",
    "    Y = [Y [X; n*o]]\n",
    "    S2 = [S2; S]\n",
    "end\n",
    "Fig3DTools.write_xyz(Y, \"Z3_edgedis.xyz\"; species=S2)\n"
   ]
  },
  {
   "cell_type": "code",
   "execution_count": null,
   "metadata": {
    "collapsed": false
   },
   "outputs": [],
   "source": [
    "####### EDGE DISLOCATION IN TRI LATTICE ########\n",
    "X, I0 = Fig3DTools.lattice_ball(R=20.1, lattice = \"tri\", defect = \"\")\n",
    "# scale the by to get nn-distance right\n",
    "nn_dist = 0.99    # (WHY!?!?!?)\n",
    "X *= nn_dist\n",
    "# shift the lattice so the core is in the origin\n",
    "X = X .- (X[:,I0] + [0.5, sqrt(3)/4])\n",
    "# apply isotropic linear elasticity solution\n",
    "X = u_edge(X, nn_dist, 1/4)\n",
    "# slightly reduce the computational domain\n",
    "iIn = find(Fig3DTools.get_r(X) .< 18.1)\n",
    "X = X[:, iIn]\n",
    "# freeze boundary region\n",
    "iFree = find(Fig3DTools.get_r(X) .< 14.1)\n",
    "\n",
    "# plot reference configuration\n",
    "# plot(X[1,:][:], X[2,:][:], \"k.\", markersize=5)\n",
    "# plot(X[1,iFree][:], X[2,iFree][:], \"b.\", markersize=10)\n",
    "\n",
    "# relax the LE guess\n",
    "Y = LujiaLt.quick_solve(X=X, Ifree=iFree, show_trace=false)\n",
    "\n",
    "# # and output as XYZ\n",
    "Fig3DTools.write_xyz(Y, \"tri_edgedis.xyz\")\n",
    "\n",
    "# and/or plot here in the notebook\n",
    "plot(Y[1,:][:], Y[2,:][:], \"k.\", markersize=5)\n",
    "plot(Y[1,iFree][:], Y[2,iFree][:], \"b.\", markersize=10);"
   ]
  },
  {
   "cell_type": "code",
   "execution_count": null,
   "metadata": {
    "collapsed": false
   },
   "outputs": [],
   "source": [
    "# Screw Dislocation in Z3\n",
    "N = 3\n",
    "X = Fig3DTools.dgrid_list(-N+1:N, 3)\n",
    "X = X .- [.5;.5;.5]\n",
    "# assign to each plane a separate species\n",
    "s = [\"Fe\", \"Al\"]\n",
    "S = [\"\" for n = 1:size(X,2)]\n",
    "for n = -N+1:N\n",
    "    z = n - 0.5\n",
    "    Iz = find( abs(X[3, :] - z) .< 0.1 )\n",
    "    S[Iz] = s[mod(n, 2)+1]\n",
    "end\n",
    "# write Z3    \n",
    "Fig3DTools.write_xyz(X, \"Z3.xyz\"; species=S)\n",
    "# write screw\n",
    "u = angle(X[1,:] + im * X[2,:]) / (2*pi)\n",
    "X[3,:] += u\n",
    "Fig3DTools.write_xyz(X, \"Z3_screw.xyz\"; species = S)\n"
   ]
  },
  {
   "cell_type": "code",
   "execution_count": null,
   "metadata": {
    "collapsed": false
   },
   "outputs": [],
   "source": [
    "# STONE-WALES DEFECT\n",
    "X = Fig3DTools.multilattice_ball(R=20)\n",
    "I1 = find(sum(abs(X), 1) .<= 0.1)\n",
    "I2 = find( (abs(X[1,:]) .<= 0.1) & (abs(X[2,:]-1.) .<= 0.1) )\n",
    "I = [I1; I2]\n",
    "c = 0.5 * (X[:, I1] + X[:, I2])\n",
    "X = X .- c\n",
    "X[:, I] = [0.8*X[2, I]; - X[1, I]]\n",
    "\n",
    "plot(X[1,:][:], X[2,:][:], \"b.\")\n",
    "plot(X[1, I][:], X[2,I][:], \"rs\")\n",
    "\n",
    "Fig3DTools.write_xyz(X, \"stone_wales_lge.xyz\", comment=\"hexagonal lattice, stone wales defect, not equilibrated\")\n",
    "\n"
   ]
  },
  {
   "cell_type": "markdown",
   "metadata": {},
   "source": [
    "### Visualisation of the screw dislocation definition\n",
    "\n"
   ]
  },
  {
   "cell_type": "code",
   "execution_count": null,
   "metadata": {
    "collapsed": false
   },
   "outputs": [],
   "source": [
    "# embedded Z2\n",
    "N = 10\n",
    "t = linspace(-N, N, 2*N+1)\n",
    "o = ones(2*N+1)\n",
    "x, y, z = t*o', o*t', 0.*o*o'\n",
    "Y = [x[:]';  y[:]';  z[:]']\n",
    "S = [\"Fe\" for n = 1:size(Y,2)]\n",
    "\n",
    "# pillar 1\n",
    "Y = [Y [0*t'; 0*t'; 0.2+t']]\n",
    "al = [\"Al\" for n = 1:N]\n",
    "S = [S; al; \"N\"; al]\n",
    "# pillar 2\n",
    "Y = [Y [1.+0*t'; 0*t'; 0.8+t']]\n",
    "S = [S; al; \"N\"; al]\n",
    "# pillar 3\n",
    "Y = [Y [-1.+0*t'; 0*t'; 0.6+t']]\n",
    "S = [S; al; \"N\"; al]\n",
    "\n",
    "Fig3DTools.write_xyz(Y, \"screw_defn.xyz\"; species=S)\n"
   ]
  },
  {
   "cell_type": "code",
   "execution_count": null,
   "metadata": {
    "collapsed": false
   },
   "outputs": [],
   "source": [
    "# embedded Z2\n",
    "N = 10\n",
    "t = linspace(-N, N, 2*N+1)\n",
    "o = ones(2*N+1)\n",
    "x, y, z = t*o', o*t', 0.*o*o'\n",
    "Y = [x[:]';  y[:]';  z[:]']\n",
    "S = [\"Fe\" for n = 1:size(Y,2)]\n",
    "\n",
    "# pillar 1\n",
    "Y = [Y [0*t'; 0*t'; 0.0+t']]\n",
    "al = [\"Al\" for n = 1:N]\n",
    "S = [S; al; \"N\"; al]\n",
    "# pillar 2\n",
    "Y = [Y [1.+0*t'; 0*t'; 0.25+t']]\n",
    "S = [S; al; \"N\"; al]\n",
    "# pillar 3\n",
    "Y = [Y [1.+0*t'; 1.+0.*t'; 0.5+t']]\n",
    "S = [S; al; \"N\"; al]\n",
    "# pillar 4\n",
    "Y = [Y [0*t'; 1.+0*t'; 0.75+t']]\n",
    "S = [S; al; \"N\"; al]\n",
    "\n",
    "Fig3DTools.write_xyz(Y, \"screw_burg_cell.xyz\"; species=S)\n",
    "\n"
   ]
  },
  {
   "cell_type": "code",
   "execution_count": null,
   "metadata": {
    "collapsed": true
   },
   "outputs": [],
   "source": []
  }
 ],
 "metadata": {
  "kernelspec": {
   "display_name": "Julia 0.4.5",
   "language": "julia",
   "name": "julia-0.4"
  },
  "language_info": {
   "file_extension": ".jl",
   "mimetype": "application/julia",
   "name": "julia",
   "version": "0.4.5"
  }
 },
 "nbformat": 4,
 "nbformat_minor": 0
}
