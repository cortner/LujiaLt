{
 "cells": [
  {
   "cell_type": "code",
   "execution_count": null,
   "metadata": {
    "collapsed": false
   },
   "outputs": [],
   "source": [
    "using LujiaLt\n",
    "using LujiaLt.Potentials, LujiaLt.Plotting, LujiaLt.Solve\n",
    "using PyPlot, Plots, Compose\n",
    "\n",
    "\"\"\"\n",
    "generate Atm model with domain with radius R. The `edgevacancy` parameter \n",
    "stabilises the edge dislocation so that the computations are easier and more robust\n",
    "\"\"\"\n",
    "EdgeDislocation(R; kwargs...) = \n",
    "    Atm(V=LennardJonesPotential(;kwargs...), Ra = R, \n",
    "        defect=:edge, edgevacancy=true)\n",
    ";"
   ]
  },
  {
   "cell_type": "markdown",
   "metadata": {},
   "source": [
    "# Test geometry construction"
   ]
  },
  {
   "cell_type": "code",
   "execution_count": null,
   "metadata": {
    "collapsed": false
   },
   "outputs": [],
   "source": [
    "# Test setup of an edge dislocation configuration via LujiaLt\n",
    "at = EdgeDislocation(8.1)\n",
    "LujiaLt.Plotting.plot(at, plotwidth=12cm, bondwidth=0.3)"
   ]
  },
  {
   "cell_type": "markdown",
   "metadata": {},
   "source": [
    "# Testing force decay and net-force decay\n",
    "\n",
    "Checking that $|F(\\ell)| \\lesssim |\\ell|^{-3}$ and $\\sum_{\\ell \\in \\Lambda} F(\\ell) = 0$, which are the requirements for the convergence theory."
   ]
  },
  {
   "cell_type": "code",
   "execution_count": null,
   "metadata": {
    "collapsed": false
   },
   "outputs": [],
   "source": [
    "\"\"\"\n",
    "`forcedecay(R::Real) -> (r, f)`\n",
    "\n",
    "where `r` is a vector of distances of atoms from the core and `f` \n",
    "a vector containing the magnitude of the forces acting on the atoms. \n",
    "`r` and `f` are only returned for atoms *inside* the domain, \n",
    "boundary atoms are excluded.\n",
    "\"\"\"\n",
    "function forcedecay(R::Real; kwargs...)\n",
    "    at = EdgeDislocation(R; kwargs...)\n",
    "    F = forces(at)\n",
    "    f = sumabs2(F, 1) |> sqrt\n",
    "    r = sumabs2(at.Yref, 1) |> sqrt\n",
    "    I = find(r .<= R)\n",
    "    return r[I], f[I]\n",
    "end\n",
    "\n",
    "\"\"\"\n",
    "`netforce(R::Real; varargs...) -> Fnet`\n",
    "\n",
    "`Fnet` is the sum over all forces, excluding the boundary forces.\n",
    "\"\"\"\n",
    "function netforce(R::Real; kwargs...)\n",
    "    at = EdgeDislocation(R; kwargs...)\n",
    "    return sum(forces(at), 2)\n",
    "end \n",
    ";\n"
   ]
  },
  {
   "cell_type": "code",
   "execution_count": null,
   "metadata": {
    "collapsed": false
   },
   "outputs": [],
   "source": [
    "cutoff = (1.5, 2.5)    # (2.2, 2.8)\n",
    "\n",
    "subplot(2,2,1)\n",
    "RR = [2^p + 0.1 for p in 2:7 ]   # 8\n",
    "nF = [ norm( netforce(R, cutoff=cutoff) ) for R in RR ]\n",
    "PyPlot.loglog(RR, nF, \"bo-\", RR, 5*RR.^(-2), \"r:\")\n",
    "ylabel(\"|net-force|\")\n",
    "xlabel(\"R - domain radius\")\n",
    "title(\"Convergence of net-Force\")\n",
    "\n",
    "subplot(2,2,2)\n",
    "R = 99.1     # 399.1\n",
    "r, f = forcedecay(R, cutoff=cutoff)\n",
    "loglog(r, f, \"b.\", [1, R], 200*[1,R].^(-3), \"r:\", markersize=1)\n",
    "legend((L\"|F|\", L\"\\sim r^{-3}\"), loc=\"lower left\")\n",
    "xlabel(\"r\")\n",
    "ylabel(\"|F|\")\n",
    "axis([0.8, R*1.2, 1e-6, 1e2])\n",
    "title(\"Decay of Forces\")\n"
   ]
  },
  {
   "cell_type": "markdown",
   "metadata": {},
   "source": [
    "# Solver  test\n",
    "\n",
    "Quick check that the nonlinear solver works as expected."
   ]
  },
  {
   "cell_type": "code",
   "execution_count": null,
   "metadata": {
    "collapsed": false
   },
   "outputs": [],
   "source": [
    "at = EdgeDislocation(10.1)\n",
    "Y = solve(at, show_trace=false, display_result = true);\n",
    "# If this fails, try to `Pkg.pin(\"Optim\", v\"0.6.1\")`"
   ]
  },
  {
   "cell_type": "code",
   "execution_count": null,
   "metadata": {
    "collapsed": false
   },
   "outputs": [],
   "source": [
    "# note that the geometry is O(1) different from the CLE configuration\n",
    "LujiaLt.Plotting.plot(at, X=Y, plotwidth=12cm, bondwidth=0.3)"
   ]
  },
  {
   "cell_type": "markdown",
   "metadata": {},
   "source": [
    "\n",
    "# Convergence Test \n",
    "\n",
    "test the predicted convergence rate - this does not work yet. need to find the bug; first, check the correct decay of the corrector solution?"
   ]
  },
  {
   "cell_type": "code",
   "execution_count": null,
   "metadata": {
    "collapsed": false
   },
   "outputs": [],
   "source": [
    "# domain radii\n",
    "RR = [2.1, 4.1, 8.1, 16.1, 32.1, 64.1]\n",
    "Rex = 3 * maximum(RR)\n",
    "\n",
    "# \"exact\" solution\n",
    "print(\"Compute comparison solution ... \"); sleep(0.01)\n",
    "atex = EdgeDislocation(Rex)\n",
    "Yex = solve(atex)\n",
    "println(\"done.\")\n",
    "\n",
    "# loop through smaller systems \n",
    "err2 = zeros(length(RR))\n",
    "for (i, R) in enumerate(RR)\n",
    "    print(\"compute R = $R ... \"); sleep(0.01)\n",
    "    at = EdgeDislocation(R)\n",
    "    Y = solve(at)\n",
    "    err2[i] = LujiaLt.error_energynorm(Y, at, Yex, atex)\n",
    "    println(\"done.\")\n",
    "end\n",
    "\n",
    "# save computation\n",
    "save(\"edgelj_errors.jld\", \"RR\", RR, \"err2\", err2)"
   ]
  },
  {
   "cell_type": "code",
   "execution_count": null,
   "metadata": {
    "collapsed": false
   },
   "outputs": [],
   "source": [
    "using JLD\n",
    "RR, err2 = load(\"edgelj_errors.jld\", \"RR\", \"err2\")\n",
    "dofs = 3 * (RR-0.1).^2 * 2\n",
    "using Plots\n",
    "Plots.pyplot()\n",
    "fnt = Plots.font(14, \"Times\")\n",
    "Plots.plot(dofs, err2, lw=2.0, marker = (:circle, 10), label = L\"\\|\\nabla \\bar{u} - \\nabla \\bar{u}_R\\|_{L^2}\", \n",
    "    xaxis = (L\"$\\#$ dofs\", (dofs[1]/1.3, dofs[end]*1.3), :log, fnt), \n",
    "    yaxis = (\"error\", :log, (8e-3, 3.0), fnt),\n",
    "    xticks = (dofs, [string(round(Int, d)) for d in dofs]), xtickfont = fnt, yticks = [-2, -1, 0], ytickfont = fnt )\n",
    "Plots.plot!(dofs[3:5], 2*dofs[3:5].^(-1/2), line = (:dash, 1.0), label=L\"$\\sim R^{-1/2}$\")\n",
    "Plots.title!(\"Galerkin Approximation of Edge Dislocation\", titlefont = fnt, legendfont = fnt)\n",
    "Plots.savefig(\"edgelj_errors.pdf\")"
   ]
  },
  {
   "cell_type": "code",
   "execution_count": null,
   "metadata": {
    "collapsed": false
   },
   "outputs": [],
   "source": []
  }
 ],
 "metadata": {
  "anaconda-cloud": {},
  "kernelspec": {
   "display_name": "Julia 0.4.7",
   "language": "julia",
   "name": "julia-0.4"
  },
  "language_info": {
   "file_extension": ".jl",
   "mimetype": "application/julia",
   "name": "julia",
   "version": "0.4.7"
  }
 },
 "nbformat": 4,
 "nbformat_minor": 0
}
