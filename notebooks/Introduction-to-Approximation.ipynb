{
 "cells": [
  {
   "cell_type": "code",
   "execution_count": null,
   "metadata": {
    "collapsed": false
   },
   "outputs": [],
   "source": [
    "# import anything we need in this notebook\n",
    "using MsUtils, Compose, Colors, PGFPlots\n",
    "import LujiaLt\n",
    "FEM = LujiaLt.FEM;"
   ]
  },
  {
   "cell_type": "code",
   "execution_count": null,
   "metadata": {
    "collapsed": false
   },
   "outputs": [],
   "source": [
    "# include(\"../src/LujiaLt.jl\"); FEM = LujiaLt.FEM"
   ]
  },
  {
   "cell_type": "markdown",
   "metadata": {},
   "source": [
    "# Introduction to Approximation\n",
    "\n",
    "In this notebook we collect the computational examples associated with Chapters 3 and 4 of *Multiscale Simulation*. \n",
    "\n",
    "**Remark:** These codes use some elementary functional style constructs. \n",
    "These may initially require some getting used to, but in the long run they\n",
    "make for code that is brief, readable and less likely to contain bugs.\n",
    "In particular, Julia encourages to avoid `if` statements and instead use\n",
    "its dispatch mechanism. This is a paradigm that makes for simple and \n",
    "elegant code.\n",
    "\n",
    "## Requirements\n",
    "\n",
    "* `Compose.jl`; to produce PDFs the latest master needs to be checked out\n",
    "* `Colors.jl`\n",
    "\n",
    "## Model\n",
    "\n",
    "The homogeneous lattice model is\n",
    "$$\n",
    "    E(u) = \\sum_{\\ell \\in \\Lambda^{\\rm hom}} \\sum_{i = 1}^3 \\phi\\big( D_{a_i} u(\\ell) \\big)\n",
    "        = \\sum_{b \\in B^{\\rm hom}} \\phi( Du_b ).\n",
    "$$\n",
    "We will use $\\phi(r) = \\sin^2( \\pi r )$ throughout, which models an \n",
    "anti-plane nearest-neighbour pair interaction. \n",
    "\n",
    "We can introduce a point defect by introducing additional lattice sites and\n",
    "associated bonds. A screw dislocation is introduced by adding a *pre-strain* \n",
    "to the bonds.  In order to implement only one model, we will describe both\n",
    "of these within the same framework.\n",
    "\n",
    "Let $\\Lambda$ be a point defect reference configuration and $B$ an\n",
    "associated set of nearest-neighbour bonds. Specifically we consider two\n",
    "cases:\n",
    "\n",
    "* *Homogeneous lattice:* $\\Lambda^{\\rm hom} = A \\mathbb{Z}^2$ and \n",
    "    $B^{\\rm hom} = \\{ (i,j) \\in \\Lambda^2 : |i-j| = 1 \\}$.\n",
    "* *Interstitial-type defect:* $\\Lambda^{\\rm int} = \\Lambda^{\\rm hom} \\cup \\{\\xi\\}$, where $\\xi = (1/2,0)$ or nearby is the defect site\n",
    "and $B^{\\rm int} = \\{(i,j) \\in \\Lambda^2 : |i-j| \\leq 1 \\}$.\n",
    "\n",
    "The pre-strain is a map ${\\sf e} : B \\to \\mathbb{R}$. The energy is now given by\n",
    "$$\n",
    "  E(u) = \\sum_{b \\in B} \\phi( {\\sf e}_b + Du_b ) - \\phi( {\\sf e}_b ).\n",
    "$$\n",
    "\n",
    "We define the two benchmark problems through specifying $\\Lambda, B, {\\sf e}$:\n",
    "\n",
    "* **Point defect case (interstitial)** \n",
    "    - $\\Lambda = \\Lambda^{\\rm int}$\n",
    "    - $B = B^{\\rm int}$\n",
    "    - ${\\sf e}_{(i,j)} = 1 - |i-j|$\n",
    "* **Screw dislocation case** \n",
    "    - $\\Lambda = \\Lambda^{\\rm hom}$\n",
    "    - $B = B^{\\rm hom}$\n",
    "    - ${\\sf e}_{(i,j)} = (\\frac{1}{2\\pi} \\arg(i-\\xi) - \\frac{1}{2\\pi}\\arg(j-\\xi))~{\\rm mod}~(-1/2, 1/2]$\n",
    "\n",
    "More details about these choices can be found in Chapters 3 and 4 of the book.\n"
   ]
  },
  {
   "cell_type": "markdown",
   "metadata": {},
   "source": [
    "## ATM Approximation\n",
    "\n",
    "We first consider the purely atomistic approximation where only the\n",
    "admissible displacements are restricted. For $R \\in \\mathbb{N}$ the\n",
    "computational domain is given by\n",
    "$$\n",
    "   \\Omega_R = \\Lambda \\cap [-R+1, R]^2\n",
    "$$\n",
    "with Dirichlet conditions (clamped) on the boundary sites. \n",
    "\n"
   ]
  },
  {
   "cell_type": "code",
   "execution_count": null,
   "metadata": {
    "collapsed": false
   },
   "outputs": [],
   "source": [
    "# [1] Preliminaries\n",
    "\n",
    "# default interstitial position\n",
    "const ξi = [0.5; 0.0]\n",
    "const ξs = [0.5; sqrt(3)/4]\n",
    "# off-centre defect positions, to break symmetry\n",
    "const ξi_off = [0.3; 0.2]\n",
    "const ξs_off = [0.4; 0.35]\n",
    "\n",
    "# a Julia hack that allows us to use dispatch effectively\n",
    "NoDefectT = Val{:none}; const NoDefect = NoDefectT()\n",
    "ScrewT = Val{:screw}; const Screw = ScrewT()\n",
    "InterstitialT = Val{:int}; const Interstitial = InterstitialT()\n",
    "NoneOrInt = Union{NoDefectT, InterstitialT}\n",
    "NoneOrScrew = Union{NoDefectT, ScrewT}\n",
    "\n",
    "\"distance of several points from a centre\"\n",
    "dist(X::Matrix, x0) = sqrt(sumabs2(X .- x0, 1))\n",
    "\n",
    "\"default defect cores\"\n",
    "defcore(::InterstitialT) = ξi\n",
    "defcore(::ScrewT) = ξs\n",
    "defcore(::NoDefectT) = [0.0;0.0]\n",
    "\n",
    "\n",
    "# [1] computional domain ------------------------------------------\n",
    "\n",
    "\"\"\"computational domain; returns (x, y) coordinate \n",
    "vectors of lattice points\"\"\"\n",
    "domain(R, ::NoneOrScrew; ξ=ξs) = LujiaLt.lattice_ball(R=R, A=LujiaLt.Atri, x0=ξ)[1]\n",
    "domain(R, ::InterstitialT; ξ=ξi) = [domain(R, NoDefect, ξ=ξ) ξ]\n",
    "\n",
    "\n",
    "# [3] bonds and operations on bonds -------------------------------\n",
    "\n",
    "\"If v : X → R, then fdiff(v) : Bonds → R storing Dv_b\"\n",
    "fdiff(v::Vector, B::Tuple) = v[B[2]] - v[B[1]]\n",
    "fdiff(v::Matrix, B::Tuple) = v[:, B[2]] - v[:, B[1]]\n",
    "fdiff(v, B::Matrix) = fdiff(v, mat2tup(B))\n",
    "\n",
    "\"\"\"bonds within a computational domain: \n",
    "find all the Delaunay edges with length <= 1\"\"\"\n",
    "function bonds(X) \n",
    "    E = FEM.edges(FEM.Triangulation(X))\n",
    "    E = E[:, find(sumabs2(fdiff(X, E), 1) .<= 1.1)]\n",
    "    return mat2tup(E)\n",
    "end\n",
    "\n",
    "\"bond midpoints\"\n",
    "midpoints(X, B) = 0.5*(X[:, B[1]] + X[:, B[2]])\n",
    "\n",
    "\"distance of bond mid-points from x0\"\n",
    "bonddist(X::Matrix, B::Tuple, ξ) = dist( midpoints(X, B), ξ )\n",
    "bonddist(X::Matrix, B::Tuple) = bonddist(X, B, [0.0; 0.0])\n",
    "\n",
    "\n",
    "# [4] prestrain is a function of lattice positions ----------------------------\n",
    "\n",
    "\"compute prestrains\"\n",
    "prestrain(X, B, ::NoneOrInt) = 1.0 - sqrt( sumabs2(fdiff(X, B), 1) )[:]\n",
    "predictor(X, ::ScrewT; xc = ξs) = predictor_screw(X .- xc)\n",
    "prestrain(X, B, ::ScrewT; xc = ξs) = prestrain_screw(X .- xc, B)\n",
    "arg(x, y) = imag(log(x + im * y))\n",
    "predictor_screw(X) = arg(X[1,:][:], X[2,:][:]) / (2*π)\n",
    "prestrain_screw(X, B) = mod(fdiff(predictor_screw(X), B) + 0.5, 1) - 0.5\n",
    "\n",
    "# [5] last aspect of geometry: free indices ----------------------------------\n",
    "\n",
    "Ifree(X, R; xc = [0.0;0.0]) = find(dist(X, xc) .< R)\n",
    "Iclamp(X, R; xc = [0.0;0.0]) = find(dist(X, xc) .>= R)\n",
    ";\n"
   ]
  },
  {
   "cell_type": "markdown",
   "metadata": {},
   "source": [
    "### Testing the geometry implementations\n",
    "\n",
    "We test the geometry implementation by creating an interstitial geometry\n",
    "and a screw dislocation geometry and plotting both."
   ]
  },
  {
   "cell_type": "code",
   "execution_count": null,
   "metadata": {
    "collapsed": false
   },
   "outputs": [],
   "source": [
    "# Interstitial\n",
    "X = domain(4.0, Interstitial)\n",
    "B = bonds(X)\n",
    "ee = prestrain(X, B, Interstitial)\n",
    "ctx = plot_int(X, B, ee, plotwidth=10cm);"
   ]
  },
  {
   "cell_type": "markdown",
   "metadata": {},
   "source": [
    "### Implementation of the energies\n",
    "\n",
    "we have completed all of the geometry assembly and can now turn to the energy."
   ]
  },
  {
   "cell_type": "code",
   "execution_count": null,
   "metadata": {
    "collapsed": false
   },
   "outputs": [],
   "source": [
    "\n",
    "# [6] Model type : ------------------------------------------------\n",
    "#     to collect all the information\n",
    "#     the construction is produced below\n",
    "type AtmModel{T}\n",
    "    R   # domain parameter\n",
    "    X   # lattice coordinates\n",
    "    B   # bonds\n",
    "    e   # pre-strains\n",
    "    Ifree   # free dofs\n",
    "    defect::T  # type of defect\n",
    "end\n",
    "\n",
    "function AtmModel(; R=5, defect = NoDefect, kwargs...)\n",
    "    X = domain(R, defect; kwargs...)\n",
    "    B = bonds(X)\n",
    "    return AtmModel(R, X, B, prestrain(X, B, defect), Ifree(X, R-1.1), defect)\n",
    "end\n",
    "\n",
    "\"number of lattice sites in the computational domain\"\n",
    "nsites(m) = size(m.X, 2)\n",
    "# \"number of dofs\"\n",
    "# ndofs(m::AtmModel) = length(m.Ifree)\n",
    "\n",
    "# [7] Energy ------------------------------------------------------\n",
    "#     note that could use ForwardDiff.jl to implement\n",
    "#     the gradient and hessian automatically, but it is very slow\n",
    "#     it is not difficult to do it by hand:\n",
    "\n",
    "\"NN pair potential (we use the same potential for all experiments)\" \n",
    "ϕ(r) = sin(r*π).^2\n",
    "\"first derivative of ϕ\"\n",
    "Dϕ(r) = π * sin(2*r*π)\n",
    "\"second derivative of ϕ\"\n",
    "D²ϕ(r) = 2*π^2 * cos(2*r*π)\n",
    "\n",
    "\"potential energy (difference), as function of displacement\"\n",
    "energy(m::AtmModel, U) = sum( ϕ(m.e + fdiff(U[:], m.B)) - ϕ(m.e) )\n",
    "\n",
    "\"gradient of potential energy\"\n",
    "gradient(m::AtmModel, U) = _grad_( m.B, Dϕ(m.e + fdiff(U[:], m.B)), length(U) )\n",
    "_grad_(B, dϕ, N) = binsum([dϕ; -dϕ], [B[2]; B[1]], N)\n",
    "\n",
    "\"hessian as function of displacement\"\n",
    "hessian(m::AtmModel, U) = _hess_( m.B, D²ϕ(m.e + fdiff(U[:], m.B)), length(U) )\n",
    "_hess_(B, hϕ, N) = sparse( [B[1]; B[2]; B[1]; B[2]], \n",
    "                           [B[1]; B[2]; B[2]; B[1]],  \n",
    "                           [  hϕ;   hϕ;  -hϕ; -hϕ], N, N )\n",
    "\n",
    "# [8] Basic Newton solver --------------------------------------------------\n",
    "#     this is normally not robust enough, but sufficient for our purposes.\n",
    "\n",
    "function solve(m; x = zeros(nsites(m)), show = false)\n",
    "    If = m.Ifree\n",
    "    show && @printf(\"------Newton Iteration------\\n\")\n",
    "    nit = 0\n",
    "    for nit = 0:12\n",
    "        ∇E = gradient(m, x)\n",
    "        show && @printf(\"%d : %4.2e \\n\", nit, norm(∇E[If], Inf))\n",
    "        norm(∇E[If], Inf) < 1e-8 && break\n",
    "        x[If] = x[m.Ifree] - hessian(m, x)[If, If] \\ ∇E[If]\n",
    "    end\n",
    "    nit == 12 && warn(\"the Newton iteration did not converge\")\n",
    "    show && @printf(\"----------------------------\\n\")\n",
    "    return x\n",
    "end\n",
    ";"
   ]
  },
  {
   "cell_type": "markdown",
   "metadata": {},
   "source": [
    "### Testing the implementation\n",
    "\n",
    "We perform some basic tests to make sure the implementation is correct. \n",
    "The basic philosophy of these tests is that, if the energy, gradient and \n",
    "hessian are all consistent then the implementation is likely correct. \n",
    "Hense we perform a finite difference test. We will test all partial derivatives\n",
    "for decreasing steps $h$.\n",
    "\n",
    "Note that\n",
    "$f'(x) = \\frac{f(x+h) - f(x)}{h} + O(h)$, but when we take floating-point errors \n",
    "into account, then we obtain\n",
    "$$\n",
    "    f'(x) = \\frac{f(x+h) - f(x)}{h} + O\\left( h + \\frac{\\epsilon}{h} \\right),\n",
    "$$\n",
    "where $\\epsilon$ denotes floating point accuracy. Hence, as $h$ decreases we first see an improvement but eventually a deterioration of the test agreement.\n",
    "\n",
    "These tests use `fdtest`, which is implemented in `MsUtils.jl`."
   ]
  },
  {
   "cell_type": "code",
   "execution_count": null,
   "metadata": {
    "collapsed": false
   },
   "outputs": [],
   "source": [
    "# run the FD test : change `defect` to :none, :int, :screw\n",
    "# to test the three implementations\n",
    "m = AtmModel(R = 10, defect = Interstitial)\n",
    "println(\"Test Energy as function of displacement\")\n",
    "fdtest(0.1 * rand(nsites(m)), x->energy(m,x), x->gradient(m,x), x->hessian(m,x))\n"
   ]
  },
  {
   "cell_type": "markdown",
   "metadata": {},
   "source": [
    "Our second test concerns the Newton scheme. If it is correctly \n",
    "implemented and if gradient and hessian are consistent (we just\n",
    "tested this), then it should converge in 4-5 iterations at most."
   ]
  },
  {
   "cell_type": "code",
   "execution_count": null,
   "metadata": {
    "collapsed": false
   },
   "outputs": [],
   "source": [
    "# change `defect` to {NoDefect, Interstitial, Screw} for the three model problems\n",
    "m = AtmModel(R = 10, defect=Screw)\n",
    "solve( m; show=true, x = 0.0 * rand(nsites(m)) );"
   ]
  },
  {
   "cell_type": "markdown",
   "metadata": {},
   "source": [
    "### Visualise the Solutions"
   ]
  },
  {
   "cell_type": "code",
   "execution_count": null,
   "metadata": {
    "collapsed": false
   },
   "outputs": [],
   "source": [
    "# interstitial\n",
    "m = AtmModel(R = 20, defect=Interstitial)\n",
    "u = solve(m)\n",
    "Du = fdiff(u, m.B)\n",
    "axis = [ξi[1]-7; ξi[1]+7; ξi[2]-5; ξi[2]+5]\n",
    "MsUtils.plot_strain(m.X, m.B, log(abs(m.e+Du)+2e-4); \n",
    "                    axis=axis, cmap = colormap(\"blues\"));"
   ]
  },
  {
   "cell_type": "code",
   "execution_count": null,
   "metadata": {
    "collapsed": false
   },
   "outputs": [],
   "source": [
    "# screw dislocation\n",
    "m = AtmModel(R = 20, defect=Screw)\n",
    "u = solve(m)\n",
    "Du = fdiff(u, m.B)\n",
    "axis = [ξs[1]-7; ξs[1]+7; ξs[2]-5; ξs[2]+5]\n",
    "MsUtils.plot_strain(m.X, m.B, log(abs(m.e+Du)+3e-2); \n",
    "                    axis=axis, cmap = colormap(\"blues\"));\n",
    "# u_tot = predictor(m.X, Screw) + u\n",
    "# MsUtils.plot_displacement(m.X, m.B, u_tot);"
   ]
  },
  {
   "cell_type": "markdown",
   "metadata": {},
   "source": [
    "### Testing the rate of decay of the solutions\n",
    "\n",
    "An alternative visualisation, where one can see a lot more is to just plot the decay in terms of distance from the origin.\n"
   ]
  },
  {
   "cell_type": "code",
   "execution_count": null,
   "metadata": {
    "collapsed": false
   },
   "outputs": [],
   "source": [
    "# ENVELOPES of strain fields\n",
    "R = 50    # computational domain radius\n",
    "Rp = 20   # radius of domain that we actually plot (to avoid boundary effects)\n",
    "# --- interstitial\n",
    "mi = AtmModel(R = R, defect=Interstitial, ξ = ξi_off)\n",
    "ui = solve(mi)\n",
    "Dui = fdiff(ui, mi.B)\n",
    "ri = bonddist(mi.X, mi.B, ξi_off)\n",
    "I = find(ri .<= Rp)\n",
    "ri = ri[I]; Dui = Dui[I]\n",
    "# --- screw\n",
    "ms = AtmModel(R = R, defect=Screw, ξ = ξs_off)\n",
    "us = solve(ms)\n",
    "Dus = fdiff(us, ms.B)\n",
    "rs = bonddist(ms.X, ms.B, ξs_off)\n",
    "I = find(rs .<= Rp)\n",
    "rs = rs[I]; Dus = Dus[I]; es = ms.e[I]\n",
    "# ---- plot\n",
    "# to make this a nice plot, it takes a little bit of work\n",
    "xbins = logspace(0, log10(Rp*0.99), 15)\n",
    "xi, yi = MsUtils.envelope(ri, abs(Dui), xbins)\n",
    "xs, ys = MsUtils.envelope(rs, abs(Dus), xbins)\n",
    "xstot, ystot = MsUtils.envelope(rs, abs(es + Dus), xbins)\n",
    "p = Axis([\n",
    "    Plots.Linear(xi, yi, style=\"thick\", legendentry=\"interstitial\");\n",
    "    Plots.Linear(xs, ys, style=\"thick\", legendentry=\"screw, corrector\");\n",
    "    Plots.Linear(xstot, ystot, style=\"green, thick\", legendentry=\"screw, total\");\n",
    "    MsUtils.plot_slope(6.0, 20.0, 0.5, -1.0);\n",
    "    Plots.Node(L\"\\sim r_b^{-1}\", 12.0, 1e-1);\n",
    "    MsUtils.plot_slope(6.0, 20.0, 0.07, -2.0);\n",
    "    Plots.Node(L\"\\sim r_b^{-2}\", 10.0, 3e-3);\n",
    "        ],\n",
    "        ymode=\"log\", xmode=\"log\",\n",
    "        xlabel=L\"$r_b$\",\n",
    "        ylabel = \"strain (envelope)\",\n",
    "        legendPos=\"south west\" )\n",
    "display(p)\n"
   ]
  },
  {
   "cell_type": "markdown",
   "metadata": {},
   "source": [
    "------------"
   ]
  },
  {
   "cell_type": "markdown",
   "metadata": {},
   "source": [
    "## The LIN Model\n",
    "\n",
    "To avoid having to implement the Green's function, we implement the \n",
    "version of the LIN model described in Exercise 4.3.4, restricting\n",
    "displacements to a finite computational domain\n",
    "$$\n",
    "   \\Omega_S = \\Lambda \\cap B_S\n",
    "$$\n",
    "while the energy $E$ is approximated by\n",
    "$$\n",
    "   E^{\\rm lin}(u) = \\sum_{b \\in \\mathcal{B}^{\\rm at}} \\phi(e_b+Du_b) - \\phi(e_b)\n",
    "         + \\sum_{b \\in \\mathcal{B} \\setminus \\mathcal{B}^{\\rm at}} \n",
    "                 \\phi^{\\rm lin}(e_b+Du_b) - \\phi^{\\rm lin}(e_b),\n",
    "$$\n",
    "where \n",
    "$$\n",
    "    \\phi^{\\rm lin}(r) = \\phi(0) + \\phi'(0) r + \\frac12 \\phi''(0) r^2.\n",
    "$$\n"
   ]
  },
  {
   "cell_type": "code",
   "execution_count": null,
   "metadata": {
    "collapsed": false
   },
   "outputs": [],
   "source": [
    "# Implementation of the LIN Model\n",
    "\n",
    "# [1] Lin Model type : ------------------------------------------------\n",
    "#     \n",
    "type LinModel{T}\n",
    "    R   # domain parameter\n",
    "    S   # domain parameter\n",
    "    X   # lattice coordinates\n",
    "    Bat    # nonlinear bonds\n",
    "    Blin   # quadratic bonds\n",
    "    eat        # pre-strains\n",
    "    elin       #  . . .\n",
    "    Ifree      # free dofs\n",
    "    defect::T  # type of defect\n",
    "end\n",
    "\n",
    "\n",
    "function LinModel(; R=5, S = 0.5 * R^3, defect = NoDefect, ξ=defcore(defect) )\n",
    "    # atoms\n",
    "    X = domain(S, defect; ξ=ξ)\n",
    "    # bonds\n",
    "    B = bonds(X)\n",
    "    rB = bonddist(X, B, ξ)\n",
    "    Iat = find(rB .<= R); Bat = (B[1][Iat], B[2][Iat])\n",
    "    Ilin = find(rB .> R); Blin = (B[1][Ilin], B[2][Ilin])\n",
    "    # prestrain\n",
    "    eat = prestrain(X, Bat, defect)\n",
    "    elin = prestrain(X, Blin, defect)\n",
    "    # return model\n",
    "    return LinModel(R, S, X, Bat, Blin, eat, elin, Ifree(X, S-1.1), defect)\n",
    "end\n",
    "\n",
    "# [2] energy\n",
    "\n",
    "const ϕ1 = Dϕ(0)\n",
    "const ϕ2 = D²ϕ(0)\n",
    "\n",
    "ϕlin(r) = ϕ1 * r + 0.5 * ϕ2 * r.^2\n",
    "Dϕlin(r) = ϕ1 + ϕ2 * r\n",
    "D²ϕlin(r) = ϕ2 * ones(r)\n",
    "\n",
    "energy(m::LinModel, U) = (  sum_kbn( ϕ(m.eat + fdiff(U[:], m.Bat)) - ϕ(m.eat) )\n",
    "                         + sum_kbn( ϕlin(m.elin + fdiff(U[:], m.Blin)) - ϕlin(m.elin) ) )\n",
    "\n",
    "gradient(m::LinModel, U) =  (  _grad_( m.Bat, Dϕ(m.eat + fdiff(U[:], m.Bat)), length(U) )\n",
    "                           + _grad_( m.Blin, Dϕlin(m.elin + fdiff(U[:], m.Blin)), length(U) ) )\n",
    "\n",
    "hessian(m::LinModel, U) = ( _hess_( m.Bat, D²ϕ(m.eat + fdiff(U[:], m.Bat)), length(U) )\n",
    "                            + _hess_( m.Blin, D²ϕlin(m.elin + fdiff(U[:], m.Blin)), length(U) ) )\n",
    ";"
   ]
  },
  {
   "cell_type": "code",
   "execution_count": null,
   "metadata": {
    "collapsed": false
   },
   "outputs": [],
   "source": [
    "# finite-difference check and Newton convergence check\n",
    "m = LinModel(R = 4, S = 10, defect = Interstitial)\n",
    "println(\"Finite-difference test of LIN Model\")\n",
    "fdtest(0.1 * rand(nsites(m)), x->energy(m,x), x->gradient(m,x), x->hessian(m,x))\n",
    "println(\"\\ntest Newton convergence\")\n",
    "ulin = solve(m, show=true);"
   ]
  },
  {
   "cell_type": "markdown",
   "metadata": {},
   "source": [
    "### Preliminary error estimate \n",
    "\n",
    "We can run a preliminary consistency check, by computing the\n",
    "error between the ATM and LIN model on the *same* domain\n",
    "($R^{\\rm ATM} = S^{\\rm LIN}$). This difference should decay like\n",
    "$$\n",
    "    (R^{\\rm ATM})^{-1/2} = (S^{\\rm LIN})^{-1/2} \\approx R^{-3/2},\n",
    "$$\n",
    "where $R$ is the inner radius for the LIN model.\n",
    "\n",
    "The result looks roughly correct, so we can happily move along."
   ]
  },
  {
   "cell_type": "code",
   "execution_count": null,
   "metadata": {
    "collapsed": false
   },
   "outputs": [],
   "source": [
    "# we will simulate a screw dislocation with off-centre core\n",
    "defect = Screw\n",
    "ξ = ξs_off\n",
    "# here we store the errors\n",
    "RR = [3.1; 4.1; 5.1; 7.1; 9.1]\n",
    "SS = 0.2 * RR.^3 + 1\n",
    "errinf = Float64[]\n",
    "erren = Float64[]\n",
    "NN = Float64[]\n",
    "# loop over increasing domains\n",
    "# (this is kind of the limit of what Newton can do!)\n",
    "for (R, S) in zip(RR, SS)\n",
    "    atm = AtmModel(R=S, defect=defect, ξ=ξ)\n",
    "    u_at = solve(atm)\n",
    "    lin = LinModel(R=R, S=S, defect=defect, ξ=ξ)\n",
    "    u_lin = solve(lin)\n",
    "    push!(errinf, norm(u_at - u_lin, Inf) / norm(u_at, Inf))\n",
    "    push!(erren, norm( fdiff(u_at-u_lin, atm.B) / norm(fdiff(u_at, atm.B)) ))\n",
    "    push!(NN, length(u_lin))\n",
    "end\n",
    "\n"
   ]
  },
  {
   "cell_type": "code",
   "execution_count": null,
   "metadata": {
    "collapsed": false
   },
   "outputs": [],
   "source": [
    "p = Axis([\n",
    "    Plots.Linear(NN, errinf, \n",
    "        legendentry=L\"$\\| \\bar{u} - \\bar{u}^{\\rm lin} \\|_{\\ell^\\infty}$\");\n",
    "    Plots.Linear(NN, erren, \n",
    "        legendentry=L\"$\\| D\\bar{u} - D\\bar{u}^{\\rm lin} \\|_{\\ell^2}$\");\n",
    "    Plots.Linear(NN, 1e-1*NN.^(-1/2), mark=\"none\",\n",
    "        legendentry=L\"$\\sim \\#\\Omega^{-1/2}$\");\n",
    "        ],\n",
    "        ymode=\"log\", xmode=\"log\",\n",
    "        xlabel=L\"$\\# \\Omega$\",\n",
    "        ylabel = \"relative error\",\n",
    "        legendPos=\"north east\" \n",
    "    )\n"
   ]
  },
  {
   "cell_type": "markdown",
   "metadata": {},
   "source": [
    "----------------------------------"
   ]
  },
  {
   "cell_type": "markdown",
   "metadata": {},
   "source": [
    "# A/C Coupling Method\n",
    "\n",
    "**TODO:** write documentation"
   ]
  },
  {
   "cell_type": "code",
   "execution_count": null,
   "metadata": {
    "collapsed": false
   },
   "outputs": [],
   "source": [
    "# include(\"../src/LujiaLt.jl\"); FEM = LujiaLt.FEM\n",
    "# include(\"./MsUtils.jl\")"
   ]
  },
  {
   "cell_type": "code",
   "execution_count": null,
   "metadata": {
    "collapsed": false
   },
   "outputs": [],
   "source": [
    "# Implementation of the A/C Scheme\n",
    "# here our carefully constructed abstractions don't\n",
    "# work so well directly; it is more convenient to\n",
    "# re-implement some parts from scratch\n",
    "\n",
    "# [1] Model\n",
    "\n",
    "type AcModel\n",
    "    Ra    # atomistic region radius\n",
    "    Rc    # continuum region radius\n",
    "    X     # set of nodes (at + c)\n",
    "    tri   # continuum region triangulation \n",
    "    Bat   # atomistic bonds\n",
    "    Bi    # interface bonds\n",
    "end\n",
    "\n",
    "\n",
    "\"\"\"core and interface bonds separated\"\"\"\n",
    "function acbonds(Tat)\n",
    "    # compute the atomistic bonds\n",
    "    Eat = [ Tat[1,:] Tat[1,:] Tat[2,:]; Tat[2,:] Tat[3,:] Tat[3,:] ]\n",
    "    Eat = sortcols(sort(Eat, 1))\n",
    "    occ = ones(Int, size(Eat, 2))\n",
    "    i = 1\n",
    "    while i < size(Eat, 2)\n",
    "        if Eat[:,i] != Eat[:,i+1]\n",
    "            occ[i] = 1\n",
    "            i += 1\n",
    "        else\n",
    "            occ[i] = 2\n",
    "            occ[i+1] = 0\n",
    "            i += 2\n",
    "        end\n",
    "    end\n",
    "    Bat = mat2tup(Eat[:, find(occ .== 2)])\n",
    "    Bi = mat2tup(Eat[:, find(occ .== 1)])    \n",
    "    return Bat, Bi\n",
    "end\n",
    "\n",
    "function AcModel(; Ra=5, Rc=Ra^2, defect=NoDefect, ξ=defcore(defect))\n",
    "    # create the atomistic nodes\n",
    "    Xat = domain(Ra, defect; ξ=ξ)\n",
    "    # FEM nodes: reuse the implementation in  LujiaLt\n",
    "    Xc, _ = LujiaLt.radial_nodes(Ra+0.4, Rc; hgrowth=1.0, x0=ξ)\n",
    "    # concatenate\n",
    "    X = [Xat Xc]\n",
    "    # triangulate\n",
    "    tri = FEM.Triangulation(X)\n",
    "    \n",
    "    # we could just get Bat from bonds(Xat), but then we \n",
    "    # will have difficulty deciding which bonds are core at\n",
    "    # and which are interface Instead, we use the triangulation\n",
    "    # compute all the information needed.\n",
    "    is_c = ones(FEM.nT(tri))\n",
    "    for (el, idx) in zip(FEM.elements(tri), 1:FEM.nT(tri))\n",
    "        x = tri.X[:, el.t]\n",
    "        # if all indices of the element are in Xat\n",
    "        #    and if all edges are <= 1, then this is is an atomistic element\n",
    "        if (maximum(el.t) <= size(Xat,2)) &&\n",
    "            (maximum(sumabs2(x[:,[2;3;1]] - x, 1)) <= 1.01)\n",
    "            is_c[idx] = 0\n",
    "        end\n",
    "    end\n",
    "    # compute the atomistic bonds from this\n",
    "    Bat, Bi = acbonds(tri.T[:, find(is_c .== 0)])\n",
    "    \n",
    "    # now get rid of the atomistic elements all-together\n",
    "    tri.T = tri.T[:, find(is_c .== 1)]\n",
    "    \n",
    "    return AcModel(Ra, Rc, X, tri, Bat, Bi)\n",
    "end\n",
    ";"
   ]
  },
  {
   "cell_type": "code",
   "execution_count": null,
   "metadata": {
    "collapsed": true
   },
   "outputs": [],
   "source": [
    "# [2] A/C Energy\n",
    "\n"
   ]
  },
  {
   "cell_type": "code",
   "execution_count": null,
   "metadata": {
    "collapsed": false
   },
   "outputs": [],
   "source": [
    "# We can check-out what the A/C geometry looks like.\n",
    "#  this gives us also some confidence that the implementation is correct\n",
    "ac = AcModel(Ra=3.2, Rc=7, defect=Interstitial)\n",
    "MsUtils.plot_acgeom(ac, plotwidth=10cm);"
   ]
  },
  {
   "cell_type": "code",
   "execution_count": null,
   "metadata": {
    "collapsed": true
   },
   "outputs": [],
   "source": []
  }
 ],
 "metadata": {
  "kernelspec": {
   "display_name": "Julia 0.4.5",
   "language": "julia",
   "name": "julia-0.4"
  },
  "language_info": {
   "file_extension": ".jl",
   "mimetype": "application/julia",
   "name": "julia",
   "version": "0.4.5"
  }
 },
 "nbformat": 4,
 "nbformat_minor": 0
}
