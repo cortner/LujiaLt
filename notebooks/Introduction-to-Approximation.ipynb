{
 "cells": [
  {
   "cell_type": "code",
   "execution_count": 3,
   "metadata": {
    "collapsed": true
   },
   "outputs": [],
   "source": [
    "# import anything we need in this notebook\n",
    "using Binsum"
   ]
  },
  {
   "cell_type": "markdown",
   "metadata": {},
   "source": [
    "# Chapter 2: Introduction to Approximation\n",
    "\n",
    "In this notebook we collect the computational examples associated with Chapter 2 of *Multiscale Simulation*. \n",
    "\n",
    "**Remark:** These codes use some elementary functional style constructs. \n",
    "These may initially require some getting used to, but in the long run they\n",
    "make for code that is brief, readable and less likely to contain bugs.\n",
    "In particular, Julia encourages to avoid `if` statements and instead use\n",
    "its dispatch mechanism. This is a paradigm that makes for simple and \n",
    "elegant code.\n",
    "\n",
    "## Model\n",
    "\n",
    "The homogeneous lattice model is\n",
    "$$\n",
    "    E(u) = \\sum_{\\ell \\in \\mathbb{Z}^2} \\sum_{i = 1}^2 \\phi\\big( D_i u(\\ell) \\big).\n",
    "$$\n",
    "We will use $\\phi(r) = \\sin^2( \\pi r )$ throughout, which models an \n",
    "anti-plane nearest-neighbour pair interaction. \n",
    "\n",
    "We can introduce a point defect by introducing additional lattice sites and\n",
    "associated bonds. A screw dislocation is introduced by adding a *pre-strain* \n",
    "to the bonds.  In order to implement only one model, we will describe both\n",
    "of these within the same framework.\n",
    "\n",
    "Let $\\Lambda$ be a point defect reference configuration and $B$ an\n",
    "associated set of nearest-neighbour bonds. Specifically we consider two\n",
    "cases:\n",
    "\n",
    "* *Homogeneous lattice:* $\\Lambda^{\\rm hom} = \\mathbb{Z}^2$ and \n",
    "    $B^{\\rm hom} = \\{ (i,j) \\in \\Lambda^2 : |i-j| = 1 \\}$.\n",
    "* *Interstitial-type defect:* $\\Lambda^{\\rm int} = \\mathbb{Z}^2 \\cup \\{\\xi\\}$, where $\\xi = (4/7, 1/3)$ is the defect site\n",
    "and $B^{\\rm int} = \\{(i,j) \\in \\Lambda^2 : |i-j| \\leq 1 \\}$.\n",
    "\n",
    "The pre-strain is a map ${\\sf e} : B \\to \\mathbb{R}$. The energy is now given by\n",
    "$$\n",
    "  E(u) = \\sum_{b \\in B} \\phi( {\\sf e}_b + Du_b ) - \\phi( {\\sf e}_b ).\n",
    "$$\n",
    "\n",
    "We define the two benchmark problems through specifying $\\Lambda, B, {\\sf e}$:\n",
    "\n",
    "* **Point defect case** \n",
    "    - $\\Lambda = \\Lambda^{\\rm int}$\n",
    "    - $B = B^{\\rm int}$\n",
    "    - ${\\sf e}_{(i,j)} = 1 - |i-j|$\n",
    "* **Screw dislocation case** \n",
    "    - $\\Lambda = \\Lambda^{\\rm hom}$\n",
    "    - $B = B^{\\rm hom}$\n",
    "    - ${\\sf e}_{(i,j)} = (\\frac{1}{2\\pi} \\arg(i-\\xi) - \\frac{1}{2\\pi}\\arg(j-\\xi))~{\\rm mod}~(-1/2, 1/2]$\n",
    "\n",
    "More details about these choices can be found in Chapters 3 and 4 of the book.\n"
   ]
  },
  {
   "cell_type": "markdown",
   "metadata": {},
   "source": [
    "## ATM Approximation\n",
    "\n",
    "We first consider the purely atomistic approximation where only the\n",
    "admissible displacements are restricted. For $R \\in \\mathbb{N}$ the\n",
    "computational domain is given by\n",
    "$$\n",
    "   \\Omega_R = \\Lambda \\cap [-R+1, R]^2\n",
    "$$\n",
    "with Dirichlet conditions (clamped) on the boundary sites. \n",
    "\n"
   ]
  },
  {
   "cell_type": "code",
   "execution_count": 58,
   "metadata": {
    "collapsed": false
   },
   "outputs": [
    {
     "name": "stderr",
     "output_type": "stream",
     "text": [
      "WARNING: redefining constant ξ\n"
     ]
    }
   ],
   "source": [
    "# the defect core position\n",
    "const ξ = [3/7; 1/3]\n",
    "\n",
    "# [1] Model type : to collect all the information\n",
    "#     the construction is produced below\n",
    "\n",
    "type Model\n",
    "    R   # domain parameter\n",
    "    Ω   # lattice coordinates\n",
    "    B   # bonds\n",
    "    e   # pre-strains\n",
    "    Ifree   # free dofs\n",
    "    defect  # type of defect\n",
    "end\n",
    "\n",
    "\"number of lattice sites in the computational domain\"\n",
    "nsites(m::Model) = length(m.Ω[1])\n",
    "\"number of dofs\"\n",
    "ndofs(m::Model) = length(m.Ifree)\n",
    "\n",
    "# [2] Domain\n",
    "\n",
    "\"\"\"computational domain; returns (x, y) coordinate \n",
    "vectors of lattice points\"\"\"\n",
    "domain(R::Int, ::Val{:none}) = domain_hom(collect(-R+1:R))\n",
    "domain(R::Int, ::Val{:screw}) = domain(R, Val{:none}())\n",
    "domain(R::Int, ::Val{:int}) = domain_int(domain(R, Val{:none}()))\n",
    "domain_hom(t::Vector) = ( (t * ones(t)')[:], (ones(t) * t')[:] )\n",
    "domain_int(Ω::Tuple) = ([Ω[1]; ξ[1]], [Ω[2]; ξ[2]])\n",
    "\n",
    "\n",
    "# [3] bonds\n",
    "\n",
    "\"bonds within a computational domain\"\n",
    "bonds(R::Int, ::Val{:none}) = bonds_hom(R, (2*R, 2*R))\n",
    "bonds(R::Int, ::Val{:screw}) = bonds(R::Int, Val{:none}())\n",
    "bonds(R::Int, ::Val{:int}) = bonds_int(R, bonds(R, Val{:none}()), defbonds(R))\n",
    "bonds_hom(R::Int, sz) = \n",
    "        ( [ [sub2ind(sz, i, j) for i in 1:2*R-1, j in 1:2*R][:];\n",
    "            [sub2ind(sz, i, j) for i in 1:2*R, j in 1:2*R-1][:] ],\n",
    "          [ [sub2ind(sz, i+1, j) for i in 1:2*R-1, j in 1:2*R][:];\n",
    "            [sub2ind(sz, i, j+1) for i in 1:2*R, j in 1:2*R-1][:] ] )\n",
    "defneigs(R) = Int[ (R-1)*(2*R)+R-1; (R-1)*(2*R)+R; R*(2*R)+R-1; R*(2*R)+R ]\n",
    "defbonds(R) = (defneigs(R), (4*R^2+1) * ones(Int, 4))\n",
    "bonds_int(R::Int, Bhom, Bdef) = ([Bhom[1]; Bdef[1]], [Bhom[2]; Bdef[2]])\n",
    "\n",
    "\n",
    "# [4] prestrain is a function of lattice positions\n",
    "\n",
    "fdiff(v, B) = v[B[2]] - v[B[1]]\n",
    "prestrain(Ω, B, ::Val{:none}) = zeros(length(B[1]))\n",
    "prestrain(Ω, B, ::Val{:int}) = \n",
    "            1.0 - sqrt( fdiff(Ω[1], B).^2 + fdiff(Ω[2], B).^2 )\n",
    "prestrain(Ω, B, ::Val{:screw}) = \n",
    "            prestrain_screw(Ω[1][B[1]], Ω[1][B[2]], Ω[2][B[1]], Ω[2][B[2]])\n",
    "arg(x, y) = imag(log(x + im * y))\n",
    "prestrain_screw(x1, x2, y1, y2) = \n",
    "            mod( (arg(x2, y2) - arg(x1, y1)) / (2*π) + 0.5, 1.0 ) - 0.5\n",
    "\n",
    "\n",
    "# [5] free indices\n",
    "\n",
    "Ifree(R, ::Val{:none}) = \n",
    "            (reshape(collect(1:(2*R)^2), (2*R,2*R))[2:end-1,2:end-1])[:]\n",
    "Ifree(R, ::Val{:screw}) = Ifree(R, Val{:none}())\n",
    "Ifree(R, ::Val{:int}) = [Ifree(R, Val{:none}()); (2*R)^2 + 1]\n",
    "\n",
    "\n",
    "# [6] constructor for the model type\n",
    "\n",
    "function Model(; R=5, defect=:none ) \n",
    "    valdef = Val{defect}()\n",
    "    Ω = domain(R, valdef)\n",
    "    B = bonds(R, valdef)\n",
    "    return Model(R, Ω, B, prestrain(Ω, B, valdef), Ifree(R, valdef), defect)\n",
    "end\n",
    "\n",
    "\n",
    "# [7] Energy as a function of displacement\n",
    "\n",
    "\"NN pair potential (we use the same potential for all experiments)\" \n",
    "ϕ(r) = sin(r*π).^2\n",
    "\"first derivative of ϕ\"\n",
    "Dϕ(r) = π * sin(2*r*π)\n",
    "\"second derivative of ϕ\"\n",
    "D²ϕ(r) = 2*π^2 * cos(2*r*π)\n",
    "\n",
    "\"potential energy (difference), as function of displacement\"\n",
    "energy_disp(m, U) = sum_kbn( ϕ(m.e + fdiff(U[:], m.B)) - ϕ(m.e) )\n",
    "\n",
    "\"gradient of potential energy\"\n",
    "grad_disp(m, U) = _grad_(m.B, Dϕ(m.e + fdiff(U[:], m.B)))\n",
    "_grad_(B, dϕ) = binsum([dϕ; -dϕ], [B[2]; B[1]])\n",
    "\n",
    "\"hessian as function of displacement\"\n",
    "hess_disp(m, U) = _hess_(m.B, D²ϕ(m.e + fdiff(U[:], m.B)))\n",
    "_hess_(B, hϕ) = sparse( [B[1]; B[2]; B[1]; B[2]], \n",
    "                        [B[1]; B[2]; B[2]; B[1]],  \n",
    "                        [  hϕ;   hϕ;  -hϕ; -hϕ] )\n",
    "\n",
    "# [8] displacement ↔ dof conversion\n",
    "\n",
    "\"create a dof vector from a displacement vector\"\n",
    "disp2dof(m, U) = U[m.Ifree]\n",
    "\n",
    "\"create a full displacement vector from a dof vector\"\n",
    "function dof2disp(m, W)\n",
    "    U = zeros(nsites(m))\n",
    "    U[m.Ifree] = W[:]\n",
    "    return U\n",
    "end\n",
    "\n",
    "\"energy as function of dofs\"\n",
    "energy(m, W) = energy_disp(m, dof2disp(m, W))\n",
    "\"gradient as function of dofs\"\n",
    "grad(m, W) = grad_disp(m, dof2disp(m, W))[m.Ifree]\n",
    "\"hessian as function of dofs\"\n",
    "hess(m, W) = hess_disp(m, dof2disp(m, W))[m.Ifree, m.Ifree]\n",
    "\n",
    "\n",
    "# [9] Basic Newton solver \n",
    "#     (this will be sufficient for our purposes here)\n",
    "\n",
    "function solve(m; x = zeros(ndofs(m)), show = false)\n",
    "    show && @printf(\"------Newton Iteration------\\n\")\n",
    "    nit = 0\n",
    "    for nit = 0:9\n",
    "        ∇E = grad(m, x)\n",
    "        show && @printf(\"%d : %4.2e \\n\", nit, norm(∇E, Inf))\n",
    "        norm(∇E, Inf) < 1e-8 && break\n",
    "        x = x - hess(m, x) \\ ∇E\n",
    "    end\n",
    "    nit == 9 && warning(\"the Newton iteration did not converge\")\n",
    "    show && @printf(\"----------------------------\\n\")\n",
    "    return x\n",
    "end\n",
    ";"
   ]
  },
  {
   "cell_type": "markdown",
   "metadata": {},
   "source": [
    "### Testing the implementation\n",
    "\n",
    "We perform some basic tests to make sure the implementation is correct. \n",
    "The basic philosophy of these tests is that, if the energy, gradient and \n",
    "hessian are all consistent then the implementation is likely correct. \n",
    "Hense we perform a finite difference test. We will test all partial derivatives\n",
    "for decreasing steps $h$.\n",
    "\n",
    "Note that\n",
    "$f'(x) = \\frac{f(x+h) - f(x)}{h} + O(h)$, but when we take floating-point errors \n",
    "into account, then we obtain\n",
    "$$\n",
    "    f'(x) = \\frac{f(x+h) - f(x)}{h} + O\\left( h + \\frac{\\epsilon}{h} \\right),\n",
    "$$\n",
    "where $\\epsilon$ denotes floating point accuracy. Hence, as $h$ decreases we first see an improvement but eventually a deterioration of the test agreement."
   ]
  },
  {
   "cell_type": "code",
   "execution_count": 60,
   "metadata": {
    "collapsed": false
   },
   "outputs": [
    {
     "name": "stdout",
     "output_type": "stream",
     "text": [
      "Test Energy as function of dofs\n",
      "    h  | ∇E-error   ∇²E-error  \n",
      "-------|----------------------- \n",
      " 1e-02 | 3.92e-01   1.03e+00  \n",
      " 1e-03 | 3.92e-02   9.85e-02  \n",
      " 1e-04 | 3.92e-03   9.81e-03  \n",
      " 1e-05 | 3.92e-04   9.81e-04  \n",
      " 1e-06 | 3.92e-05   9.81e-05  \n",
      " 1e-07 | 3.92e-06   9.80e-06  \n",
      " 1e-08 | 3.67e-07   1.09e-06  \n",
      " 1e-09 | 7.88e-07   1.78e-06  \n",
      " 1e-10 | 6.12e-06   2.17e-05  \n",
      " 1e-11 | 7.72e-05   1.88e-04  \n",
      " 1e-12 | 6.47e-04   1.88e-03  \n"
     ]
    }
   ],
   "source": [
    "\"perform finite difference test for an energy functional, gradient and hessian\"\n",
    "function fdtest(U, energy_, grad_, hess_)\n",
    "    E = energy_(U)\n",
    "    ∇E = grad_(U)\n",
    "    ∇²E = full(hess_(U))\n",
    "    @printf(\"    h  | ∇E-error   ∇²E-error  \\n\")\n",
    "    @printf(\"-------|----------------------- \\n\")\n",
    "    for p = 2:12\n",
    "        h = 0.1^p\n",
    "        ∇E_h = zeros(∇E)\n",
    "        ∇²E_h = zeros(∇²E)\n",
    "        for n = 1:length(U)\n",
    "            U[n] += h\n",
    "            ∇E_h[n] = (energy_(U) - E) / h\n",
    "            ∇²E_h[:,n] = (grad_(U) - ∇E) / h\n",
    "            U[n] -= h\n",
    "        end\n",
    "        @printf(\" %1.0e | %4.2e   %4.2e  \\n\", \n",
    "                h, norm(∇E - ∇E_h, Inf), vecnorm(∇²E - ∇²E_h, Inf))\n",
    "    end\n",
    "    return nothing\n",
    "end\n",
    "\n",
    "# run the FD test : change `defect` to :none, :int, :screw\n",
    "# to test the three implementations\n",
    "m = Model(R = 5, defect = :screw)\n",
    "# println(\"Test Energy as function of displacement\")\n",
    "# fdtest(0.1 * rand(nsites(m)), x->energy_disp(m,x), x->grad_disp(m,x), x->hess_disp(m,x))\n",
    "println(\"Test Energy as function of dofs\")\n",
    "fdtest(0.1 * rand(ndofs(m)), x->energy(m,x), x->grad(m,x), x->hess(m,x))\n"
   ]
  },
  {
   "cell_type": "markdown",
   "metadata": {},
   "source": [
    "Our second test concerns the Newton scheme. If it is correctly \n",
    "implemented and if gradient and hessian are consistent (we just\n",
    "tested this), then it should converge in 4-5 iterations at most."
   ]
  },
  {
   "cell_type": "code",
   "execution_count": 67,
   "metadata": {
    "collapsed": false
   },
   "outputs": [
    {
     "name": "stdout",
     "output_type": "stream",
     "text": [
      "------Newton Iteration------\n",
      "0 : 6.78e+00 \n",
      "1 : 8.96e-01 \n",
      "2 : 1.55e-03 \n",
      "3 : 7.97e-12 \n",
      "----------------------------\n"
     ]
    }
   ],
   "source": [
    "# change `defect` to {:none, :int, :screw} for the three model problems\n",
    "m = Model(R = 100, defect=:none)\n",
    "solve( m; show=true, x = 0.1 * rand(ndofs(m)) );"
   ]
  },
  {
   "cell_type": "markdown",
   "metadata": {},
   "source": [
    "### Visualise the Solutions"
   ]
  },
  {
   "cell_type": "markdown",
   "metadata": {},
   "source": [
    "### Testing the rate of decay"
   ]
  },
  {
   "cell_type": "markdown",
   "metadata": {},
   "source": [
    "### Testing the Convergence Rate for the `ATM` Model"
   ]
  },
  {
   "cell_type": "code",
   "execution_count": null,
   "metadata": {
    "collapsed": true
   },
   "outputs": [],
   "source": []
  }
 ],
 "metadata": {
  "kernelspec": {
   "display_name": "Julia 0.4.5",
   "language": "julia",
   "name": "julia-0.4"
  },
  "language_info": {
   "file_extension": ".jl",
   "mimetype": "application/julia",
   "name": "julia",
   "version": "0.4.5"
  }
 },
 "nbformat": 4,
 "nbformat_minor": 0
}
